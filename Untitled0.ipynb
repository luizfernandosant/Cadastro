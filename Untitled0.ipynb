{
  "cells": [
    {
      "cell_type": "markdown",
      "metadata": {
        "id": "view-in-github",
        "colab_type": "text"
      },
      "source": [
        "<a href=\"https://colab.research.google.com/github/luizfernandosant/Cadastro/blob/main/Untitled0.ipynb\" target=\"_parent\"><img src=\"https://colab.research.google.com/assets/colab-badge.svg\" alt=\"Open In Colab\"/></a>"
      ]
    },
    {
      "cell_type": "code",
      "execution_count": 19,
      "metadata": {
        "colab": {
          "base_uri": "https://localhost:8080/"
        },
        "id": "cAaQoduhokk6",
        "outputId": "7edeb1ad-c735-4e5c-ae2e-cd44fbc173d9"
      },
      "outputs": [
        {
          "output_type": "stream",
          "name": "stdout",
          "text": [
            "Carregando vídeo com MoviePy para extrair áudio: /content/drive/My Drive/133OjAM8lr3cwjjZ1o9JnT-U-eHk0U8wo/NÃO ENTRE 2025 SEM ASSISTIR ESSA ENTREVISTA! - PR. JACKSON MARQUES NO IANG CAST - IANG TV (1080p, h264, youtube) (1).mp4...\n",
            "Erro ao carregar vídeo com MoviePy ou extrair áudio: MoviePy error: the file /content/drive/My Drive/133OjAM8lr3cwjjZ1o9JnT-U-eHk0U8wo/NÃO ENTRE 2025 SEM ASSISTIR ESSA ENTREVISTA! - PR. JACKSON MARQUES NO IANG CAST - IANG TV (1080p, h264, youtube) (1).mp4 could not be found!\n",
            "Please check that you entered the correct path.\n"
          ]
        }
      ],
      "source": [
        "import os\n",
        "import whisper\n",
        "from moviepy.editor import VideoFileClip, TextClip, CompositeVideoClip\n",
        "from moviepy.video.fx.all import crop\n",
        "from datetime import timedelta\n",
        "import numpy as np # Importar numpy\n",
        "\n",
        "# --- CONFIGURAÇÕES ---\n",
        "VIDEO_PATH = \"/content/drive/My Drive/133OjAM8lr3cwjjZ1o9JnT-U-eHk0U8wo/NÃO ENTRE 2025 SEM ASSISTIR ESSA ENTREVISTA! - PR. JACKSON MARQUES NO IANG CAST - IANG TV (1080p, h264, youtube) (1).mp4\"  # <--- COLOQUE O CAMINHO DO SEU ARQUIVO DE VÍDEO AQUI (EX: '/content/drive/My Drive/Videos/MeuVideo.mp4')\n",
        "OUTPUT_DIR = \"/content/drive/My Drive/Colab Notebooks/PASTE_YOUR_GOOGLE_DRIVE_DESTINATION_PATH_HERE\" # <--- COLOQUE O NOME DA PASTA DE SAÍDA AQUI (USE O MESMO NOME NA CÉLULA DE COPIAR PARA O DRIVE)\n",
        "MIN_CLIP_DURATION = 15  # Duração mínima do clipe em segundos\n",
        "MAX_CLIP_DURATION = 60  # Duração máxima do clipe em segundos\n",
        "MODEL_SIZE = \"base\"     # Tamanho do modelo Whisper (\"tiny\", \"base\", \"small\", \"medium\", \"large\")\n",
        "                          # Modelos maiores são mais precisos, mas exigem mais VRAM e são mais lentos.\n",
        "\n",
        "def format_time(seconds):\n",
        "    \"\"\"Converte segundos para o formato H:M:S,ms usado por moviepy.\"\"\"\n",
        "    return str(timedelta(seconds=seconds))\n",
        "\n",
        "def create_captions(transcription_result, clip_duration):\n",
        "    \"\"\"Cria uma lista de TextClips (legendas) para o vídeo.\"\"\"\n",
        "    captions = []\n",
        "\n",
        "    # Estilo das legendas\n",
        "    font = \"Arial-Bold\"\n",
        "    fontsize = 48  # Ajuste conforme necessário\n",
        "    color = 'white'\n",
        "    stroke_color = 'black'\n",
        "    stroke_width = 2\n",
        "\n",
        "    for segment in transcription_result['segments']:\n",
        "        # Verifica se a chave 'words' existe e não está vazia\n",
        "        if 'words' in segment and segment['words']:\n",
        "            for word_info in segment['words']:\n",
        "                start_time = word_info['start']\n",
        "                end_time = word_info['end']\n",
        "                text = word_info['word'].upper()\n",
        "\n",
        "                # Cria um clipe de texto para cada palavra\n",
        "                txt_clip = TextClip(text, fontsize=fontsize, font=font, color=color,\n",
        "                                    stroke_color=stroke_color, stroke_width=stroke_width)\n",
        "\n",
        "                txt_clip = txt_clip.set_start(start_time).set_duration(end_time - start_time)\n",
        "                txt_clip = txt_clip.set_position(('center', 'center')) # Posição inicial\n",
        "\n",
        "                captions.append(txt_clip)\n",
        "        else:\n",
        "             # Se não houver 'words', usa o texto do segmento inteiro (less dynamic)\n",
        "             start_time = segment['start']\n",
        "             end_time = segment['end']\n",
        "             text = segment['text'].upper()\n",
        "\n",
        "             txt_clip = TextClip(text, fontsize=fontsize, font=font, color=color,\n",
        "                                stroke_color=stroke_color, stroke_width=stroke_width)\n",
        "\n",
        "             txt_clip = txt_clip.set_start(start_time).set_duration(end_time - start_time)\n",
        "             txt_clip = txt_clip.set_position(('center', 'center'))\n",
        "\n",
        "             captions.append(txt_clip)\n",
        "\n",
        "\n",
        "    return captions\n",
        "\n",
        "def main():\n",
        "    \"\"\"Função principal que executa todo o processo.\"\"\"\n",
        "\n",
        "    # --- NOVO PASSO: CARREGAR VÍDEO COM MOVIEPY E EXTRAIR ÁUDIO ---\n",
        "    print(f\"Carregando vídeo com MoviePy para extrair áudio: {VIDEO_PATH}...\")\n",
        "    try:\n",
        "        original_video = VideoFileClip(VIDEO_PATH)\n",
        "        audio_clip = original_video.audio\n",
        "        temp_audio_path = \"/content/temp_audio.wav\" # Salva áudio temporariamente\n",
        "        audio_clip.write_audiofile(temp_audio_path, codec='pcm_s16le')\n",
        "        print(f\"Áudio extraído e salvo em: {temp_audio_path}\")\n",
        "    except Exception as e:\n",
        "        print(f\"Erro ao carregar vídeo com MoviePy ou extrair áudio: {e}\")\n",
        "        return\n",
        "    # --- FIM DO NOVO PASSO ---\n",
        "\n",
        "\n",
        "    # 1. Carregar o modelo de IA e transcrever o áudio\n",
        "    print(\"Carregando o modelo Whisper...\")\n",
        "    model = whisper.load_model(MODEL_SIZE)\n",
        "\n",
        "    print(f\"Transcrevendo o áudio: {temp_audio_path}...\")\n",
        "    # Precisamos do word_timestamps=True para as legendas dinâmicas\n",
        "    # Usamos o áudio temporário para a transcrição\n",
        "    transcription = model.transcribe(temp_audio_path, word_timestamps=True)\n",
        "\n",
        "    # 2. Identificar segmentos interessantes (lógica simplificada)\n",
        "    print(\"Identificando segmentos para clipes...\")\n",
        "    potential_clips = []\n",
        "    for segment in transcription['segments']:\n",
        "        start = segment['start']\n",
        "        end = segment['end']\n",
        "        duration = end - start\n",
        "\n",
        "        # Nossa \"IA\" aqui é simples: pegamos qualquer segmento de fala contínua\n",
        "        # que se encaixe na duração desejada.\n",
        "        if MIN_CLIP_DURATION <= duration <= MAX_CLIP_DURATION:\n",
        "            potential_clips.append({\n",
        "                'start': start,\n",
        "                'end': end,\n",
        "                'duration': duration,\n",
        "                'text': segment['text']\n",
        "            })\n",
        "            print(f\"  - Segmento encontrado: {format_time(start)} -> {format_time(end)} ({duration:.2f}s)\")\n",
        "\n",
        "    if not potential_clips:\n",
        "        print(\"Nenhum clipe com a duração desejada foi encontrado.\")\n",
        "        # Fechar o vídeo original mesmo que não haja clipes\n",
        "        original_video.close()\n",
        "        # Remover o arquivo de áudio temporário\n",
        "        if os.path.exists(temp_audio_path):\n",
        "            os.remove(temp_audio_path)\n",
        "            print(f\"Arquivo de áudio temporário removido: {temp_audio_path}\")\n",
        "        return\n",
        "\n",
        "    # 3. Criar e salvar os clipes\n",
        "    if not os.path.exists(OUTPUT_DIR):\n",
        "        os.makedirs(OUTPUT_DIR)\n",
        "\n",
        "    print(f\"\\nCriando {len(potential_clips)} clipe(s)...\")\n",
        "    # O video_clip original já foi carregado no início\n",
        "\n",
        "    for i, clip_data in enumerate(potential_clips):\n",
        "        start_time = clip_data['start']\n",
        "        end_time = clip_data['end']\n",
        "        output_filename = os.path.join(OUTPUT_DIR, f\"clip_{i+1}.mp4\")\n",
        "\n",
        "        print(f\"Processando clipe {i+1}/{len(potential_clips)} -> {output_filename}\")\n",
        "\n",
        "        # Corta o segmento de vídeo\n",
        "        clip = original_video.subclip(start_time, end_time)\n",
        "\n",
        "        # Redimensiona para formato vertical (9:16)\n",
        "        (w, h) = clip.size\n",
        "        target_aspect_ratio = 9.0 / 16.0\n",
        "\n",
        "        # Calcula o corte para manter o centro do vídeo\n",
        "        new_w = int(h * target_aspect_ratio)\n",
        "        new_h = h\n",
        "\n",
        "        # Garante que o corte não seja maior que a largura original\n",
        "        if new_w > w:\n",
        "            new_w = w\n",
        "            new_h = int(w / target_aspect_ratio)\n",
        "\n",
        "        # Corta o vídeo (crop)\n",
        "        cropped_clip = crop(clip, width=new_w, height=new_h, x_center=w/2, y_center=h/2)\n",
        "\n",
        "        # Redimensiona para 1080x1920 (Full HD Vertical)\n",
        "        final_clip = cropped_clip.resize(width=1080)\n",
        "\n",
        "        # Adiciona as legendas\n",
        "        # Passamos a transcrição completa e a duração do clipe cortado\n",
        "        # Filtra as legendas para o intervalo de tempo do clipe atual\n",
        "        transcription_for_clip = {\n",
        "            'segments': [\n",
        "                s for s in transcription['segments']\n",
        "                if (s['start'] >= start_time and s['start'] < end_time) or\n",
        "                   (s['end'] > start_time and s['end'] <= end_time) or\n",
        "                   (s['start'] < start_time and s['end'] > end_time)\n",
        "            ]\n",
        "        }\n",
        "        captions = create_captions(transcription_for_clip, final_clip.duration)\n",
        "        # Ajusta o tempo das legendas para o início do clipe (subtrai o start_time do clipe)\n",
        "        captions_positioned = [c.set_start(max(0, c.start - start_time)) for c in captions]\n",
        "\n",
        "\n",
        "        final_video_with_captions = CompositeVideoClip([final_clip] + captions_positioned)\n",
        "\n",
        "        # Salva o arquivo final\n",
        "        final_video_with_captions.write_videofile(\n",
        "            output_filename,\n",
        "            codec='libx264',\n",
        "            audio_codec='aac',\n",
        "            temp_audiofile='temp-audio-write.m4a', # Usar nome diferente para evitar conflito\n",
        "            remove_temp=True\n",
        "        )\n",
        "\n",
        "        clip.close()\n",
        "\n",
        "    original_video.close()\n",
        "    # Remover o arquivo de áudio temporário\n",
        "    if os.path.exists(temp_audio_path):\n",
        "        os.remove(temp_audio_path)\n",
        "        print(f\"Arquivo de áudio temporário removido: {temp_audio_path}\")\n",
        "\n",
        "    print(\"\\nProcesso concluído!\")\n",
        "\n",
        "\n",
        "if __name__ == \"__main__\":\n",
        "    main()"
      ]
    },
    {
      "cell_type": "code",
      "execution_count": 20,
      "metadata": {
        "id": "7bbc5857",
        "colab": {
          "base_uri": "https://localhost:8080/"
        },
        "outputId": "e79544ac-4631-411b-8414-29f8d4b974e7"
      },
      "outputs": [
        {
          "output_type": "stream",
          "name": "stdout",
          "text": [
            "['.config', 'drive', 'sample_data']\n"
          ]
        }
      ],
      "source": [
        "import os\n",
        "\n",
        "# List the contents of the /content/ directory\n",
        "print(os.listdir('/content/'))"
      ]
    },
    {
      "cell_type": "code",
      "execution_count": 21,
      "metadata": {
        "id": "579b8765",
        "colab": {
          "base_uri": "https://localhost:8080/"
        },
        "outputId": "245cc0a8-2644-4d15-fecb-0e2c803d5e9a"
      },
      "outputs": [
        {
          "output_type": "stream",
          "name": "stdout",
          "text": [
            "Error: The source file was not found at PASTE_YOUR_GOOGLE_DRIVE_FILE_PATH_HERE. Please double-check the path.\n"
          ]
        }
      ],
      "source": [
        "import shutil\n",
        "import os\n",
        "\n",
        "# Replace with the actual path to your video file in Google Drive\n",
        "source_path = \"PASTE_YOUR_GOOGLE_DRIVE_FILE_PATH_HERE\"\n",
        "destination_path = \"/content/your_video_file_name.mp4\" # You can change the destination filename if you like\n",
        "\n",
        "try:\n",
        "    shutil.copy(source_path, destination_path)\n",
        "    print(f\"File copied successfully to: {destination_path}\")\n",
        "except FileNotFoundError:\n",
        "    print(f\"Error: The source file was not found at {source_path}. Please double-check the path.\")\n",
        "except Exception as e:\n",
        "    print(f\"An error occurred while copying the file: {e}\")"
      ]
    },
    {
      "cell_type": "code",
      "execution_count": 22,
      "metadata": {
        "id": "ee42477a",
        "colab": {
          "base_uri": "https://localhost:8080/"
        },
        "outputId": "a19cd24a-b9bd-45c7-d23e-54b0f43dbd7e"
      },
      "outputs": [
        {
          "output_type": "stream",
          "name": "stdout",
          "text": [
            "Error: The source file was not found at PASTE_THE_FILE_PATH_FROM_GOOGLE_DRIVE_HERE. Please double-check the path.\n"
          ]
        }
      ],
      "source": [
        "import shutil\n",
        "import os\n",
        "\n",
        "# Replace with the actual path to your video file in Google Drive\n",
        "source_path = \"PASTE_THE_FILE_PATH_FROM_GOOGLE_DRIVE_HERE\"\n",
        "destination_path = \"/content/your_video_file_name.mp4\" # You can change the destination filename if you like\n",
        "\n",
        "try:\n",
        "    shutil.copy(source_path, destination_path)\n",
        "    print(f\"File copied successfully to: {destination_path}\")\n",
        "except FileNotFoundError:\n",
        "    print(f\"Error: The source file was not found at {source_path}. Please double-check the path.\")\n",
        "except Exception as e:\n",
        "    print(f\"An error occurred while copying the file: {e}\")"
      ]
    },
    {
      "cell_type": "code",
      "execution_count": 23,
      "metadata": {
        "id": "8d36e087",
        "colab": {
          "base_uri": "https://localhost:8080/"
        },
        "outputId": "8824427c-e642-42ee-9728-39f6db0addc6"
      },
      "outputs": [
        {
          "output_type": "stream",
          "name": "stdout",
          "text": [
            "ls: cannot access 'PASTE_YOUR_GOOGLE_DRIVE_DESTINATION_PATH_HERE': No such file or directory\n"
          ]
        }
      ],
      "source": [
        "# Replace with the actual path to the destination directory in your Google Drive\n",
        "!ls \"PASTE_YOUR_GOOGLE_DRIVE_DESTINATION_PATH_HERE\""
      ]
    },
    {
      "cell_type": "code",
      "execution_count": 24,
      "metadata": {
        "id": "a7eb0df5",
        "colab": {
          "base_uri": "https://localhost:8080/"
        },
        "outputId": "3c36b006-b39a-4b45-c9b0-9695a95c3ff8"
      },
      "outputs": [
        {
          "output_type": "stream",
          "name": "stdout",
          "text": [
            "Erro: A pasta de origem '/content/ENTER_YOUR_DESIRED_OUTPUT_DIRECTORY_NAME_HERE' não foi encontrada em /content/. Certifique-se de que o código foi executado e gerou os clipes.\n"
          ]
        }
      ],
      "source": [
        "import shutil\n",
        "import os\n",
        "\n",
        "# Nome da pasta de saída onde os clipes foram salvos (do código anterior)\n",
        "# !!! IMPORTANTE: SUBSTITUA \"USE_THE_SAME_NAME_AS_OUTPUT_DIR_IN_CELL_cAaQoduhokk6_HERE\" PELO NOME REAL DA PASTA DE SAÍDA DEFINIDO EM OUTPUT_DIR NA CÉLULA cAaQoduhokk6 !!!\n",
        "output_folder_name = \"ENTER_YOUR_DESIRED_OUTPUT_DIRECTORY_NAME_HERE\"\n",
        "source_directory = os.path.join(\"/content/\", output_folder_name)\n",
        "\n",
        "# Caminho para a pasta de destino no seu Google Drive\n",
        "# Exemplo: \"/content/drive/My Drive/Pasta_dos_Videos_Editados\"\n",
        "# !!! IMPORTANTE: SUBSTITUA \"PASTE_YOUR_GOOGLE_DRIVE_DESTINATION_PATH_HERE\" PELO CAMINHO COMPLETO NO SEU GOOGLE DRIVE ONDE VOCÊ QUER SALVAR A PASTA !!!\n",
        "destination_directory = \"/content/drive/My Drive/133OjAM8lr3cwjjZ1o9JnT-U-eHk0U8wo\" # Usando o ID da pasta fornecido pelo usuário\n",
        "\n",
        "try:\n",
        "    # Verifica se a pasta de saída existe\n",
        "    if os.path.exists(source_directory):\n",
        "        # Copia a pasta inteira para o Google Drive\n",
        "        # Certifique-se de que o destino existe e é um diretório acessível pelo Colab\n",
        "        shutil.copytree(source_directory, destination_directory)\n",
        "        print(f\"Pasta '{output_folder_name}' copiada com sucesso para: {PASTE_YOUR_GOOGLE_DRIVE_DESTINATION_PATH_HERE}\")\n",
        "    else:\n",
        "        print(f\"Erro: A pasta de origem '{source_directory}' não foi encontrada em /content/. Certifique-se de que o código foi executado e gerou os clipes.\")\n",
        "except FileExistsError:\n",
        "    print(f\"Erro: A pasta de destino '{destination_directory}' já existe no Google Drive.\")\n",
        "    print(\"Por favor, remova a pasta existente ou escolha um nome de pasta diferente para a cópia.\")\n",
        "except Exception as e:\n",
        "    print(f\"Ocorreu um erro ao copiar a pasta: {e}\")"
      ]
    },
    {
      "cell_type": "code",
      "execution_count": 25,
      "metadata": {
        "id": "21aa1553",
        "colab": {
          "base_uri": "https://localhost:8080/"
        },
        "outputId": "1da7af27-9936-48c1-bbf5-2731020e794f"
      },
      "outputs": [
        {
          "output_type": "stream",
          "name": "stdout",
          "text": [
            "ls: cannot access 'PASTE_YOUR_GOOGLE_DRIVE_DESTINATION_PATH_HERE': No such file or directory\n"
          ]
        }
      ],
      "source": [
        "# Replace with the actual path to the destination directory in your Google Drive\n",
        "!ls \"PASTE_YOUR_GOOGLE_DRIVE_DESTINATION_PATH_HERE\""
      ]
    },
    {
      "cell_type": "code",
      "execution_count": 26,
      "metadata": {
        "id": "641ff015",
        "colab": {
          "base_uri": "https://localhost:8080/"
        },
        "outputId": "f918230e-e1bb-4213-9d77-2d287e7d5edf"
      },
      "outputs": [
        {
          "output_type": "stream",
          "name": "stdout",
          "text": [
            "Drive already mounted at /content/drive; to attempt to forcibly remount, call drive.mount(\"/content/drive\", force_remount=True).\n"
          ]
        }
      ],
      "source": [
        "from google.colab import drive\n",
        "drive.mount('/content/drive')"
      ]
    },
    {
      "cell_type": "code",
      "execution_count": 27,
      "metadata": {
        "id": "861268f9"
      },
      "outputs": [],
      "source": [
        "!pip install -q openai-whisper"
      ]
    }
  ],
  "metadata": {
    "colab": {
      "provenance": [],
      "authorship_tag": "ABX9TyP/rA/sEf3SMdR7SdXSBCML",
      "include_colab_link": true
    },
    "kernelspec": {
      "display_name": "Python 3",
      "name": "python3"
    },
    "language_info": {
      "name": "python"
    }
  },
  "nbformat": 4,
  "nbformat_minor": 0
}